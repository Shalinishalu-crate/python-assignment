{
 "cells": [
  {
   "cell_type": "code",
   "execution_count": 4,
   "id": "b1c1e0fe-6ea8-488c-ad2e-b16e1dd234eb",
   "metadata": {},
   "outputs": [
    {
     "name": "stdout",
     "output_type": "stream",
     "text": [
      "the area of the circle is: 95.03\n"
     ]
    }
   ],
   "source": [
    "# Question: Calculate the area of a circle with radius 5.5\n",
    "import math\n",
    "radius=5.5\n",
    "area=math.pi*(radius**2)\n",
    "print(f\"the area of the circle is: {area:.2f}\")"
   ]
  },
  {
   "cell_type": "code",
   "execution_count": 5,
   "id": "e9cc5a5c-8490-46ab-a1db-11fc6a72197e",
   "metadata": {},
   "outputs": [
    {
     "name": "stdout",
     "output_type": "stream",
     "text": [
      "the avrage number is:(2.0133\n"
     ]
    }
   ],
   "source": [
    "# Question 1: Calculate the average of 3.14, 2.718, 1.618, 0.577\n",
    "num=[3.14,2.718,1.618,0.577]\n",
    "average = sum(num)/len(num)\n",
    "print(f\"the avrage number is:({average:.4f}\")"
   ]
  },
  {
   "cell_type": "code",
   "execution_count": 16,
   "id": "15e7724e-e365-4f84-ae9e-b85beccf9828",
   "metadata": {},
   "outputs": [
    {
     "name": "stdout",
     "output_type": "stream",
     "text": [
      "98.6F is equal to 37.00 C\n"
     ]
    }
   ],
   "source": [
    "# Question 2: Convert 98.6 Fahrenheit to Celsius (F = C * 9/5 + 32)\n",
    "Fahrenheit=98.6\n",
    "Celsius=(Fahrenheit-32)*5/9\n",
    "print(f\"{Fahrenheit}F is equal to {Celsius:.2f} C\")"
   ]
  },
  {
   "cell_type": "code",
   "execution_count": 18,
   "id": "a8f55b44-0710-4e9e-b495-7a724ba0b6a3",
   "metadata": {},
   "outputs": [
    {
     "name": "stdout",
     "output_type": "stream",
     "text": [
      "the compound interest is :$174.24\n"
     ]
    }
   ],
   "source": [
    "# Question 3: Calculate the compound interest on $1000 at 5.5% for 3 years\n",
    "def calculate_compound_interest(principal,rate,time):\n",
    "    amount=principal*(1+rate/100)**time\n",
    "    ci=amount-principal\n",
    "    return ci\n",
    "principal=1000\n",
    "rate=5.5\n",
    "time=3\n",
    "ci=calculate_compound_interest(principal,rate,time)\n",
    "print(f\"the compound interest is :${ci:.2f}\")"
   ]
  },
  {
   "cell_type": "code",
   "execution_count": 19,
   "id": "d7f6d711-dfcf-49d6-b710-86e8820c4534",
   "metadata": {},
   "outputs": [
    {
     "name": "stdout",
     "output_type": "stream",
     "text": [
      "the hypotenus is:5.47\n"
     ]
    }
   ],
   "source": [
    "# Question 4: Find the hypotenuse of a right triangle with sides 3.5 and 4.2\n",
    "import math\n",
    "a=3.5\n",
    "b=4.2\n",
    "c=math.sqrt(a**2+b**2)\n",
    "print(f\"the hypotenus is:{c:.2f}\")"
   ]
  },
  {
   "cell_type": "code",
   "execution_count": 21,
   "id": "72f16e98-b326-4d56-9f6a-37011eee9750",
   "metadata": {},
   "outputs": [
    {
     "name": "stdout",
     "output_type": "stream",
     "text": [
      "the volume of sphere is:1987.80 cubic units\n"
     ]
    }
   ],
   "source": [
    "# Question 5: Calculate the volume of a sphere with radius 7.8\n",
    "import math\n",
    "radius=7.8\n",
    "volume=(4/3)*math.pi*radius**3\n",
    "print(f\"the volume of sphere is:{volume:.2f} cubic units\")"
   ]
  },
  {
   "cell_type": "code",
   "execution_count": 23,
   "id": "e1818442-39bb-4d0e-a98e-fdf67f5d3b45",
   "metadata": {},
   "outputs": [
    {
     "name": "stdout",
     "output_type": "stream",
     "text": [
      "the rounded number is: 3.142\n"
     ]
    }
   ],
   "source": [
    "# Question 6: Round 3.14159 to 3 decimal places\n",
    "num=3.14159\n",
    "rounded_num=round(num,3)\n",
    "print(f\"the rounded number is: {rounded_num}\")"
   ]
  },
  {
   "cell_type": "code",
   "execution_count": 27,
   "id": "424d0287-85a4-45dd-b6de-ea9d975d6120",
   "metadata": {},
   "outputs": [
    {
     "name": "stdout",
     "output_type": "stream",
     "text": [
      "the percentage is:67.16417910447761%\n"
     ]
    }
   ],
   "source": [
    "# Question 7: Calculate the percentage: 45 out of 67\n",
    "a=45\n",
    "b=67\n",
    "percentage=(a/b)*100\n",
    "print(f\"the percentage is:{percentage}%\")"
   ]
  },
  {
   "cell_type": "code",
   "execution_count": 31,
   "id": "d5fe7fcb-55da-4c5e-aaed-1a764ba33d1a",
   "metadata": {},
   "outputs": [
    {
     "name": "stdout",
     "output_type": "stream",
     "text": [
      "square root is :4.843139477652899\n"
     ]
    }
   ],
   "source": [
    "# Question 8: Find the square root of 23.456\n",
    "import math\n",
    "num=23.456\n",
    "sqrt_num=math.sqrt(num)\n",
    "print(f\"square root is :{sqrt_num}\")"
   ]
  },
  {
   "cell_type": "code",
   "execution_count": 33,
   "id": "e5f66078-41e9-4495-8aa5-527dd6945c01",
   "metadata": {},
   "outputs": [
    {
     "name": "stdout",
     "output_type": "stream",
     "text": [
      "the simple interest is:406.25\n"
     ]
    }
   ],
   "source": [
    "# Question 9: Calculate the simple interest: Principal=2500, Rate=6.5%, Time=2.5 years\n",
    "principal=2500\n",
    "rate=6.5\n",
    "time=2.5\n",
    "simple_interest=(principal*rate*time)/100\n",
    "print(f\"the simple interest is:{simple_interest}\")"
   ]
  },
  {
   "cell_type": "code",
   "execution_count": 35,
   "id": "0221e3e4-f814-4203-9fce-8eac3c5804fe",
   "metadata": {},
   "outputs": [
    {
     "name": "stdout",
     "output_type": "stream",
     "text": [
      "45.7 degree is equal to  radians0.7976154681614086\n"
     ]
    }
   ],
   "source": [
    "# Question 10: Convert 45.7 degrees to radians\n",
    "import math\n",
    "degree=45.7\n",
    "radians=degree*math.pi/180\n",
    "print(f\"{degree} degree is equal to  radians{radians}\")"
   ]
  },
  {
   "cell_type": "code",
   "execution_count": 1,
   "id": "05b0e3dc-7d34-4e30-be85-2f2378048513",
   "metadata": {},
   "outputs": [
    {
     "name": "stdout",
     "output_type": "stream",
     "text": [
      "SOLVED EXAMPLE:\n",
      "Count vowels in the string 'Hello World'\n",
      "String: Hello World\n",
      "Number of vowels: 3\n",
      "--------------------------------------------------\n"
     ]
    }
   ],
   "source": [
    "# Question:Count vowels in the string \"Hello World\"\n",
    "print(\"SOLVED EXAMPLE:\")\n",
    "print(\"Count vowels in the string 'Hello World'\")\n",
    "text = \"Hello World\"\n",
    "vowels = \"aeiouAEIOU\"\n",
    "count = sum(1 for char in text if char in vowels)\n",
    "print(f\"String: {text}\")\n",
    "print(f\"Number of vowels: {count}\")\n",
    "print(\"-\" * 50)"
   ]
  },
  {
   "cell_type": "code",
   "execution_count": 6,
   "id": "105a60ee-beee-4bcc-ab62-8224a036454d",
   "metadata": {},
   "outputs": [
    {
     "name": "stdout",
     "output_type": "stream",
     "text": [
      "count vowels in the string 'hello world'\n",
      "string:hello world\n",
      "number of vowels:3\n"
     ]
    }
   ],
   "source": [
    "print(\"count vowels in the string 'hello world'\")\n",
    "x='hello world'\n",
    "vowels='aeiou'\n",
    "count=sum(1 for char in x if char in vowels)\n",
    "print(f\"string:{x}\")\n",
    "print(f\"number of vowels:{count}\")\n",
    "\n"
   ]
  },
  {
   "cell_type": "code",
   "execution_count": 7,
   "id": "77bb6da6-7276-434a-b1c5-8b857b12c83f",
   "metadata": {},
   "outputs": [
    {
     "name": "stdout",
     "output_type": "stream",
     "text": [
      "reversed string:gnimmargorp nohtyp\n"
     ]
    }
   ],
   "source": [
    "# Question 1: Reverse the string \"Python Programming\"\n",
    "text=(\"python programming\")\n",
    "reversed_text=text[::-1]\n",
    "print(f\"reversed string:{reversed_text}\") \n"
   ]
  },
  {
   "cell_type": "code",
   "execution_count": 12,
   "id": "1a62b5d7-ef54-4a22-9aba-ca9e197e6e79",
   "metadata": {},
   "outputs": [
    {
     "name": "stdout",
     "output_type": "stream",
     "text": [
      "is'racecar'a palindrome?True\n"
     ]
    }
   ],
   "source": [
    "# Question 2: Check if \"racecar\" is a palindrome\n",
    "text=\"racecar\"\n",
    "is_palindrome=text==text[::-1]\n",
    "print(f\"is'{text}'a palindrome?{is_palindrome}\")\n"
   ]
  },
  {
   "cell_type": "code",
   "execution_count": 16,
   "id": "f7d2f15b-2b8b-4b0c-8a25-5b9b4f4ed1f1",
   "metadata": {},
   "outputs": [
    {
     "name": "stdout",
     "output_type": "stream",
     "text": [
      "number of words:6\n"
     ]
    }
   ],
   "source": [
    "# Question 3: Count the number of words in \"Python is a great programming language\"\n",
    "y=\"python is a great programming language\"\n",
    "word_count=len(y.split())\n",
    "print(f\"number of words:{word_count}\")"
   ]
  },
  {
   "cell_type": "code",
   "execution_count": 17,
   "id": "4b07ebc5-404e-46d7-ad9c-89c95dcf564d",
   "metadata": {},
   "outputs": [
    {
     "name": "stdout",
     "output_type": "stream",
     "text": [
      "title case:Hello World\n"
     ]
    }
   ],
   "source": [
    "# Question 4: Convert \"hello world\" to title case\n",
    "text=\"hello world\"\n",
    "title_case=text.title()\n",
    "print(f\"title case:{title_case}\")"
   ]
  },
  {
   "cell_type": "code",
   "execution_count": 2,
   "id": "6ca391ff-2438-480c-910e-1fdb9e41e60b",
   "metadata": {},
   "outputs": [
    {
     "name": "stdout",
     "output_type": "stream",
     "text": [
      "length:12\n"
     ]
    }
   ],
   "source": [
    "# Question 5: Find the length of string \"Data Science\"\n",
    "text=\"data science\"\n",
    "length=len(text)\n",
    "print(f\"length:{length}\")\n"
   ]
  },
  {
   "cell_type": "code",
   "execution_count": 4,
   "id": "23342384-9890-42db-82ff-24d091a98557",
   "metadata": {},
   "outputs": [
    {
     "name": "stdout",
     "output_type": "stream",
     "text": [
      "text with underscores: Machine_learning\n"
     ]
    }
   ],
   "source": [
    "#question 6:Replace all spaces with underscores in \"machine learning\"\n",
    "text=\"Machine learning\"\n",
    "new_text=text.replace(\" \",\"_\")\n",
    "print(f\"text with underscores: {new_text}\")"
   ]
  },
  {
   "cell_type": "code",
   "execution_count": 6,
   "id": "a2df7b67-7306-47e1-8070-8ebf6fa8af5c",
   "metadata": {},
   "outputs": [
    {
     "name": "stdout",
     "output_type": "stream",
     "text": [
      "python is in the text:True\n"
     ]
    }
   ],
   "source": [
    "#Question 7:Check if \"python\"is in\"python programming language\"\n",
    "text=\"python programming language\"\n",
    "check=\"python\" in text.lower()\n",
    "print(f\"python is in the text:{check}\")"
   ]
  },
  {
   "cell_type": "code",
   "execution_count": 7,
   "id": "294c7c12-4afb-4bf0-917e-956d53efca79",
   "metadata": {},
   "outputs": [
    {
     "name": "stdout",
     "output_type": "stream",
     "text": [
      "first 5 characters: Artif\n"
     ]
    }
   ],
   "source": [
    "#Question 8:Extract the first 5 characters from \"Artificial Intelligence\"\n",
    "text=\"Artificial Intelligence\"\n",
    "first_five_char=text[:5]\n",
    "print(f\"first 5 characters: {first_five_char}\")"
   ]
  },
  {
   "cell_type": "code",
   "execution_count": 8,
   "id": "b01503ab-7c7f-4495-8790-bcc8ef6d3ba5",
   "metadata": {},
   "outputs": [
    {
     "name": "stdout",
     "output_type": "stream",
     "text": [
      "lowercase text:uppercase\n"
     ]
    }
   ],
   "source": [
    "#Question 9:convert uppercase to lower case\n",
    "text=\"UPPERCASE\"\n",
    "lowercase_text=text.lower ()\n",
    "print(f\"lowercase text:{lowercase_text}\")"
   ]
  },
  {
   "cell_type": "code",
   "execution_count": 12,
   "id": "697fc8bf-809e-4328-a593-c775f9df64cf",
   "metadata": {},
   "outputs": [
    {
     "name": "stdout",
     "output_type": "stream",
     "text": [
      "text without vowels: Cmptr Scnc\n"
     ]
    }
   ],
   "source": [
    "#Question 10:remval of all vowels from \"Computer Science\"\n",
    "text=\"Computer Science\"\n",
    "vowels=\"aeiouAEIOU\"\n",
    "new_text=\"\".join([char for char in text if char  not in  vowels])\n",
    "print(f\"text without vowels: {new_text}\")"
   ]
  },
  {
   "cell_type": "code",
   "execution_count": 1,
   "id": "38a0525f-b6b0-40de-ae24-7bf04d2e7eb4",
   "metadata": {},
   "outputs": [
    {
     "name": "stdout",
     "output_type": "stream",
     "text": [
      "are'listen' and 'silent' anagram?True\n"
     ]
    }
   ],
   "source": [
    "#Question12: check if two strings are anagrams:\"listen\"and\"silent\"\n",
    "str1=\"listen\"\n",
    "str2=\"silent\"\n",
    "is_anagram=sorted (str1)==sorted(str2)\n",
    "print(f\"are'{str1}' and '{str2}' anagram?{is_anagram}\")"
   ]
  },
  {
   "cell_type": "code",
   "execution_count": 2,
   "id": "682a760d-bbe9-4cc6-ac67-26390d75d9fe",
   "metadata": {},
   "outputs": [
    {
     "name": "stdout",
     "output_type": "stream",
     "text": [
      "capitalized text:Python Programming Language\n"
     ]
    }
   ],
   "source": [
    "#Question13:capitalize first letter of each word in \"python programming language\"\n",
    "text=\"python programming language\"\n",
    "capitalized_text=text.title()\n",
    "print(f\"capitalized text:{capitalized_text}\")"
   ]
  },
  {
   "cell_type": "code",
   "execution_count": 2,
   "id": "7a5c1122-f798-48b7-9809-ec0b525c40ec",
   "metadata": {},
   "outputs": [
    {
     "name": "stdout",
     "output_type": "stream",
     "text": [
      "number of consonants:7\n"
     ]
    }
   ],
   "source": [
    "#Question14:count consonants in \"Hello World\"\n",
    "text=\"hello world\"\n",
    "vowels=\"aeiouAEIOU\"\n",
    "consonant_count=sum(1 for char in text if char.isalpha() and char not in vowels)\n",
    "print(f\"number of consonants:{consonant_count}\")"
   ]
  },
  {
   "cell_type": "code",
   "execution_count": 3,
   "id": "b7bfd000-ebe2-4662-b2d8-c98974462a1e",
   "metadata": {},
   "outputs": [
    {
     "name": "stdout",
     "output_type": "stream",
     "text": [
      "longest word:programming\n"
     ]
    }
   ],
   "source": [
    "#Question15:Find the longest word in \"python is a programming language\"\n",
    "text=\"python is a programming language\"\n",
    "words=text.split()\n",
    "longest_word=max(words,key=len)\n",
    "print(f\"longest word:{longest_word}\")"
   ]
  },
  {
   "cell_type": "code",
   "execution_count": null,
   "id": "f3206b81-6aa3-456b-8a9d-c753b7a80afb",
   "metadata": {},
   "outputs": [],
   "source": []
  }
 ],
 "metadata": {
  "kernelspec": {
   "display_name": "Python 3 (ipykernel)",
   "language": "python",
   "name": "python3"
  },
  "language_info": {
   "codemirror_mode": {
    "name": "ipython",
    "version": 3
   },
   "file_extension": ".py",
   "mimetype": "text/x-python",
   "name": "python",
   "nbconvert_exporter": "python",
   "pygments_lexer": "ipython3",
   "version": "3.13.5"
  }
 },
 "nbformat": 4,
 "nbformat_minor": 5
}
